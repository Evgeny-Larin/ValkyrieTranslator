{
 "cells": [
  {
   "cell_type": "code",
   "execution_count": 1,
   "id": "72b939d3",
   "metadata": {},
   "outputs": [],
   "source": [
    "#!pip install translators\n",
    "#import translators as ts\n",
    "#ts.translate_text('mansions', translator = 'google', to_language = 'ru')\n",
    "\n",
    "#C:\\Users\\Evgeny Larin\\anaconda_projects\\MoMValkyrieTranslations\\Possessed.valkyrie"
   ]
  },
  {
   "cell_type": "code",
   "execution_count": 2,
   "id": "19072459",
   "metadata": {},
   "outputs": [],
   "source": [
    "#функция для удаления файла из zip архива https://stackoverflow.com/questions/4653768/overwriting-file-in-ziparchive\n",
    "import tempfile\n",
    "import zipfile\n",
    "import shutil\n",
    "import os\n",
    "\n",
    "def remove_from_zip(zipfname, *filenames):\n",
    "    tempdir = tempfile.mkdtemp()\n",
    "    try:\n",
    "        tempname = os.path.join(tempdir, 'new.zip')\n",
    "        with zipfile.ZipFile(zipfname, 'r') as zipread:\n",
    "            with zipfile.ZipFile(tempname, 'w') as zipwrite:\n",
    "                for item in zipread.infolist():\n",
    "                    if item.filename not in filenames:\n",
    "                        data = zipread.read(item.filename)\n",
    "                        zipwrite.writestr(item, data)\n",
    "        shutil.move(tempname, zipfname)\n",
    "    finally:\n",
    "        shutil.rmtree(tempdir)"
   ]
  },
  {
   "cell_type": "code",
   "execution_count": 3,
   "id": "093379c1",
   "metadata": {},
   "outputs": [],
   "source": [
    "from zipfile import ZipFile\n",
    "import pandas as pd\n",
    "import os"
   ]
  },
  {
   "cell_type": "markdown",
   "id": "6eed2546",
   "metadata": {},
   "source": [
    "# Укажите путь до файла Localization.English.txt"
   ]
  },
  {
   "cell_type": "code",
   "execution_count": 4,
   "id": "bc3a8b5b",
   "metadata": {},
   "outputs": [
    {
     "name": "stdout",
     "output_type": "stream",
     "text": [
      "Укажите путь к файлу сюжета .valkyrie\n",
      "C:\\Users\\Evgeny Larin\\anaconda_projects\\MoMValkyrieTranslations\\Possessed.valkyrie\n",
      "0\n"
     ]
    }
   ],
   "source": [
    "path = input('Укажите путь к файлу сюжета .valkyrie\\n')\n",
    "z = ZipFile(fr'{path}', 'a')\n",
    "\n",
    "files_list = [text_file.filename for text_file in z.infolist() ]\n",
    "\n",
    "if 'Localization.Russian.txt' in files_list:\n",
    "    print('Сюжет уже имеет файл с переводом Localization.Russian.txt')\n",
    "else:\n",
    "    print(0)"
   ]
  },
  {
   "cell_type": "code",
   "execution_count": 5,
   "id": "65cc4659",
   "metadata": {},
   "outputs": [],
   "source": [
    "with z.open('Localization.English.txt') as f:\n",
    "    df = pd.read_csv(f,\n",
    "                     sep='^([^,]+),',\n",
    "                     engine='python',\n",
    "                     header = None,\n",
    "                     usecols = range(1,3))\n",
    "df.rename(columns={2:'text'}, inplace = True)"
   ]
  },
  {
   "cell_type": "code",
   "execution_count": 6,
   "id": "32622465",
   "metadata": {},
   "outputs": [],
   "source": [
    "#ручные замены\n",
    "df = df.replace(to_replace = '</i\\|\\|\\|', value = '</i>|||', regex = True)"
   ]
  },
  {
   "cell_type": "code",
   "execution_count": 7,
   "id": "081509ec",
   "metadata": {},
   "outputs": [],
   "source": [
    "special = df.text[df.text.str.contains('{') == True].unique().tolist() #ищем все строчки, в которых есть {}\n",
    "sep = '}'\n",
    "list2 = []\n",
    "for i in special:  #отделяем {} от {} если они в одной строчке\n",
    "    if i.find('{') >= 0 and i.find('}') >= 0:\n",
    "        list2.extend([x+sep for x in i.split(sep)])\n",
    "\n",
    "special = []       #чистим мусор (наверное можно оптимизировать, пока хз как)\n",
    "for i in list2:\n",
    "    start = i.find('{')\n",
    "    if start >= 0:\n",
    "        end = i.find('}')+1\n",
    "        special.append(i[start:end])\n",
    "        \n",
    "special = set(special) #удаляем дубликаты"
   ]
  },
  {
   "cell_type": "code",
   "execution_count": 8,
   "id": "3c9eb760",
   "metadata": {},
   "outputs": [],
   "source": [
    "special2 = df.text[df.text.str.contains('<') == True].unique() #ищем все строчки, в которых есть <>\n",
    "sep = '>'\n",
    "list2 = []\n",
    "for i in special2:  #отделяем {} от {} если они в одной строчке\n",
    "    if i.find('<') >= 0 and i.find('>') >= 0:\n",
    "        list2.extend([x+sep for x in i.split(sep)])\n",
    "        \n",
    "special2 = []       #чистим мусор (наверное можно оптимизировать, пока хз как)\n",
    "for i in list2:\n",
    "    start = i.find('<')\n",
    "    if start >= 0:\n",
    "        end = i.find('>')+1\n",
    "        special2.append(i[start:end])\n",
    "special2 = set(special2) #удаляем дубликаты"
   ]
  },
  {
   "cell_type": "code",
   "execution_count": 9,
   "id": "b797fe01",
   "metadata": {},
   "outputs": [],
   "source": [
    "special_list = []\n",
    "special_dict = {}\n",
    "n = 0\n",
    "for i in special: #собираем все специальные значения\n",
    "    start = i.find('{')\n",
    "    end = i.find('}', start)+1\n",
    "    special_list.append(i[start:end])\n",
    "special_list = set(special_list) #сохраняем только уникальные специальные значения\n",
    "for i in special_list: #сохраняем уникальные значения в словарь и присваиваем порядковые номера\n",
    "    n = n+1\n",
    "    special_dict[i] = '<'+str(n)+'>'"
   ]
  },
  {
   "cell_type": "code",
   "execution_count": 10,
   "id": "59bec06a",
   "metadata": {},
   "outputs": [],
   "source": [
    "special_list2 = []\n",
    "special_dict2 = {}\n",
    "n = 0\n",
    "for i in special2: #собираем все специальные значения\n",
    "    start = i.find('<')\n",
    "    end = i.find('>', start)+1\n",
    "    special_list2.append(i[start:end])\n",
    "special_list2 = set(special_list2) #сохраняем только уникальные специальные значения\n",
    "for i in special_list2: #сохраняем уникальные значения в словарь и присваиваем порядковые номера\n",
    "    n = n-1\n",
    "    special_dict2[i] = '<'+str(n)+'>' "
   ]
  },
  {
   "cell_type": "code",
   "execution_count": 11,
   "id": "59036fad",
   "metadata": {},
   "outputs": [
    {
     "data": {
      "text/html": [
       "<div>\n",
       "<style scoped>\n",
       "    .dataframe tbody tr th:only-of-type {\n",
       "        vertical-align: middle;\n",
       "    }\n",
       "\n",
       "    .dataframe tbody tr th {\n",
       "        vertical-align: top;\n",
       "    }\n",
       "\n",
       "    .dataframe thead th {\n",
       "        text-align: right;\n",
       "    }\n",
       "</style>\n",
       "<table border=\"1\" class=\"dataframe\">\n",
       "  <thead>\n",
       "    <tr style=\"text-align: right;\">\n",
       "      <th></th>\n",
       "      <th>1</th>\n",
       "      <th>text</th>\n",
       "    </tr>\n",
       "  </thead>\n",
       "  <tbody>\n",
       "    <tr>\n",
       "      <th>0</th>\n",
       "      <td>.</td>\n",
       "      <td>English</td>\n",
       "    </tr>\n",
       "    <tr>\n",
       "      <th>1</th>\n",
       "      <td>quest.name</td>\n",
       "      <td>Possessed 1.2</td>\n",
       "    </tr>\n",
       "    <tr>\n",
       "      <th>2</th>\n",
       "      <td>quest.description</td>\n",
       "      <td>\"This horror story plays in a remote, abandone...</td>\n",
       "    </tr>\n",
       "    <tr>\n",
       "      <th>3</th>\n",
       "      <td>quest.synopsys</td>\n",
       "      <td>To correct the horrors from your families' his...</td>\n",
       "    </tr>\n",
       "    <tr>\n",
       "      <th>4</th>\n",
       "      <td>quest.authors</td>\n",
       "      <td>\"Story: &lt;-15&gt;Anton Timmermans &amp; William van de...</td>\n",
       "    </tr>\n",
       "    <tr>\n",
       "      <th>5</th>\n",
       "      <td>ATTACK</td>\n",
       "      <td>Attack</td>\n",
       "    </tr>\n",
       "    <tr>\n",
       "      <th>6</th>\n",
       "      <td>CANCEL</td>\n",
       "      <td>Cancel</td>\n",
       "    </tr>\n",
       "    <tr>\n",
       "      <th>7</th>\n",
       "      <td>CONTINUE</td>\n",
       "      <td>Continue</td>\n",
       "    </tr>\n",
       "    <tr>\n",
       "      <th>8</th>\n",
       "      <td>GUESS</td>\n",
       "      <td>Guess</td>\n",
       "    </tr>\n",
       "    <tr>\n",
       "      <th>9</th>\n",
       "      <td>LOOK</td>\n",
       "      <td>Look</td>\n",
       "    </tr>\n",
       "    <tr>\n",
       "      <th>10</th>\n",
       "      <td>ACTION</td>\n",
       "      <td>&lt;404&gt;&lt;520&gt;&lt;544&gt;</td>\n",
       "    </tr>\n",
       "  </tbody>\n",
       "</table>\n",
       "</div>"
      ],
      "text/plain": [
       "                    1                                               text\n",
       "0                   .                                            English\n",
       "1          quest.name                                      Possessed 1.2\n",
       "2   quest.description  \"This horror story plays in a remote, abandone...\n",
       "3      quest.synopsys  To correct the horrors from your families' his...\n",
       "4       quest.authors  \"Story: <-15>Anton Timmermans & William van de...\n",
       "5              ATTACK                                             Attack\n",
       "6              CANCEL                                             Cancel\n",
       "7            CONTINUE                                           Continue\n",
       "8               GUESS                                              Guess\n",
       "9                LOOK                                               Look\n",
       "10             ACTION                                    <404><520><544>"
      ]
     },
     "execution_count": 11,
     "metadata": {},
     "output_type": "execute_result"
    }
   ],
   "source": [
    "#заменяем специальные значения на порядковые номера (чтобы переводчик их не переводил) \n",
    "df[\"text\"] = df.text.replace(special_dict2, regex=True).replace(special_dict, regex=True)\n",
    "df.head(11)"
   ]
  },
  {
   "cell_type": "code",
   "execution_count": 12,
   "id": "ebabad78",
   "metadata": {},
   "outputs": [],
   "source": [
    "#сохраняем текст для перевода\n",
    "name = 'TextForTranslate.xlsx'\n",
    "df.text.to_excel(f'{name}')"
   ]
  },
  {
   "cell_type": "markdown",
   "id": "084ba578",
   "metadata": {},
   "source": [
    "# Теперь нужно перевесити полученный файл в Google Переводчике\n",
    "\n",
    "# https://translate.google.com/?hl=ru&tab=TT&sl=en&tl=ru&op=docs"
   ]
  },
  {
   "cell_type": "code",
   "execution_count": 13,
   "id": "31c3f9c6",
   "metadata": {},
   "outputs": [
    {
     "name": "stdout",
     "output_type": "stream",
     "text": [
      "Путь к переведенному файлу\n",
      "C:\\Users\\Evgeny Larin\\Downloads\n"
     ]
    }
   ],
   "source": [
    "path2 = input('Путь к переведенному файлу\\n')"
   ]
  },
  {
   "cell_type": "code",
   "execution_count": 14,
   "id": "09e26809",
   "metadata": {},
   "outputs": [],
   "source": [
    "#считываем переведенный файл\n",
    "df2 = pd.read_excel(fr'{path2}\\\\{name}', usecols = [1]) "
   ]
  },
  {
   "cell_type": "code",
   "execution_count": 15,
   "id": "78917476",
   "metadata": {},
   "outputs": [],
   "source": [
    "#иногда переводчик добавляет лишние пробелы или неправильно распознает специальные символы - исправляем\n",
    "df2 = df2.replace(to_replace = ' >', value = '>', regex = True)\\\n",
    "         .replace(to_replace = '\\\\\\п', value = '\\\\n', regex = True)"
   ]
  },
  {
   "cell_type": "code",
   "execution_count": 16,
   "id": "4d4ebae0",
   "metadata": {},
   "outputs": [],
   "source": [
    "#слепляем столбец триггеров и столбец с переведенным текстом\n",
    "df_done = df.merge(df2, left_index=True, right_index=True).drop(columns=['text'])\n",
    "df_done.rename(columns = {'текст':'text'}, inplace = True)"
   ]
  },
  {
   "cell_type": "code",
   "execution_count": 17,
   "id": "a01864c2",
   "metadata": {},
   "outputs": [],
   "source": [
    "#создаем инвертированный словарь и заменяем порядковые номера на специальные значения\n",
    "dict_special = dict(zip(special_dict.values(), special_dict.keys()))\n",
    "dict_special2 = dict(zip(special_dict2.values(), special_dict2.keys()))\n",
    "df_done['text'] = df_done['text'].replace(dict_special, regex=True).replace(dict_special2, regex=True).replace('Английский', 'Russian', regex = True)"
   ]
  },
  {
   "cell_type": "code",
   "execution_count": 18,
   "id": "9e902e2e",
   "metadata": {},
   "outputs": [],
   "source": [
    "#удаляем пробелы, который добавляет переводчик \n",
    "df_done['text'] =  df_done['text'].str.strip()"
   ]
  },
  {
   "cell_type": "code",
   "execution_count": 19,
   "id": "733a8e1f",
   "metadata": {},
   "outputs": [],
   "source": [
    "#добавляем файл в архив с сюжетом\n",
    "df_done.to_csv('Localization.Russian.txt', sep = ',', index = False, header = False)\n",
    "z.write('Localization.Russian.txt')\n",
    "os.remove('Localization.Russian.txt')"
   ]
  },
  {
   "cell_type": "code",
   "execution_count": 20,
   "id": "63e1fc2d",
   "metadata": {},
   "outputs": [],
   "source": [
    "#извлекаем файл quest.ini и удаляем его в архиве сюжета\n",
    "z.extract('quest.ini')\n",
    "z.close()\n",
    "remove_from_zip(fr'{path}', 'quest.ini')    "
   ]
  },
  {
   "cell_type": "code",
   "execution_count": 21,
   "id": "dec51f24",
   "metadata": {},
   "outputs": [],
   "source": [
    "#редактируем файл quest.ini и добавляем в архив с сюжетом\n",
    "file = open('quest.ini', 'r')\n",
    "pozition = file.readlines().index('[QuestText]\\n')+1\n",
    "file = open('quest.ini', 'r')\n",
    "new_file = file.readlines()\n",
    "elem = 'Localization.Russian.txt\\n'\n",
    "new_file.insert(pozition, elem)\n",
    "\n",
    "with open('quest.ini', 'w') as file:\n",
    "    for row in new_file:\n",
    "        s = \"\".join(map(str, row))\n",
    "        file.write(s)\n",
    "        \n",
    "z = ZipFile(fr'{path}', 'a')\n",
    "z.write('quest.ini')\n",
    "z.close()\n",
    "os.remove('quest.ini')"
   ]
  },
  {
   "cell_type": "code",
   "execution_count": null,
   "id": "5014fbb5",
   "metadata": {},
   "outputs": [],
   "source": []
  }
 ],
 "metadata": {
  "kernelspec": {
   "display_name": "Python 3 (ipykernel)",
   "language": "python",
   "name": "python3"
  },
  "language_info": {
   "codemirror_mode": {
    "name": "ipython",
    "version": 3
   },
   "file_extension": ".py",
   "mimetype": "text/x-python",
   "name": "python",
   "nbconvert_exporter": "python",
   "pygments_lexer": "ipython3",
   "version": "3.9.12"
  }
 },
 "nbformat": 4,
 "nbformat_minor": 5
}
